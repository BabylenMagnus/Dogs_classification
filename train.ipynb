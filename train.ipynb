{
 "cells": [
  {
   "cell_type": "code",
   "execution_count": 1,
   "metadata": {},
   "outputs": [],
   "source": [
    "import os\n",
    "from config import *"
   ]
  },
  {
   "cell_type": "code",
   "execution_count": 2,
   "metadata": {
    "pycharm": {
     "name": "#%%\n"
    }
   },
   "outputs": [
    {
     "name": "stdout",
     "output_type": "stream",
     "text": [
      "['australian_terrier', 'beagle', 'border_terrier', 'dingo', 'english_foxhound', 'golden_retriever', 'old_english_sheepdog', 'rhodesian_ridgeback', 'samoyed', 'shih-tzu']\n"
     ]
    }
   ],
   "source": [
    "for path in [TRAIN_DATA, VAL_DATA]:\n",
    "\tfor i in os.listdir(path):\n",
    "\t\tif i in TRUE_NAME.keys():\n",
    "\t\t\tos.rename(\n",
    "\t\t\t\tos.path.join(path, i),\n",
    "\t\t\t\tos.path.join(path, TRUE_NAME[i].replace(' ', '_').lower())\n",
    "\t\t\t)\n",
    "print(os.listdir(path))"
   ]
  },
  {
   "cell_type": "code",
   "execution_count": 3,
   "metadata": {
    "pycharm": {
     "name": "#%%\n"
    }
   },
   "outputs": [],
   "source": [
    "from torchvision.datasets import ImageFolder\n",
    "from torchvision import transforms as T\n",
    "\n",
    "from torch.utils.data import DataLoader, SubsetRandomSampler\n",
    "from torch.optim import Adam\n",
    "\n",
    "import numpy as np"
   ]
  },
  {
   "cell_type": "code",
   "execution_count": 4,
   "metadata": {
    "pycharm": {
     "name": "#%%\n"
    }
   },
   "outputs": [],
   "source": [
    "train_augmentation = T.Compose([\n",
    "\tT.RandomRotation((0, 90)),\n",
    "\tT.RandomVerticalFlip(p=.33),\n",
    "\tT.Resize([IMAGE_SIZE, IMAGE_SIZE]),\n",
    "\tT.ToTensor(),\n",
    "\tT.Normalize([0.485, 0.456, 0.406], [0.229, 0.224, 0.225])\n",
    "])\n",
    "\n",
    "test_augmentation = T.Compose([\n",
    "\tT.Resize(IMAGE_SIZE),\n",
    "\tT.ToTensor(),\n",
    "\tT.Normalize([0.485, 0.456, 0.406], [0.229, 0.224, 0.225])\n",
    "])"
   ]
  },
  {
   "cell_type": "code",
   "execution_count": 5,
   "metadata": {
    "pycharm": {
     "name": "#%%\n"
    }
   },
   "outputs": [],
   "source": [
    "# it is impossible change augmentations if ImageFolder split via random_split\n",
    "train_data = ImageFolder(TRAIN_DATA, transform=train_augmentation)\n",
    "valid_data = ImageFolder(TRAIN_DATA, transform=test_augmentation)\n",
    "\n",
    "# obtain training indices\n",
    "indices = np.arange(len(train_data))\n",
    "np.random.shuffle(indices)\n",
    "split = int(0.8 * len(train_data))\n",
    "train_idx, valid_idx = indices[split:], indices[:split]\n",
    "\n",
    "# prepare data loaders\n",
    "train_loader = DataLoader(\n",
    "\ttrain_data, batch_size=BATCH_SIZE, sampler=SubsetRandomSampler(train_idx), num_workers=12\n",
    ")\n",
    "valid_loader = DataLoader(\n",
    "\ttrain_data, batch_size=BATCH_SIZE, sampler=SubsetRandomSampler(valid_idx), num_workers=12\n",
    ")"
   ]
  },
  {
   "cell_type": "code",
   "execution_count": 6,
   "outputs": [],
   "source": [
    "from engine import *"
   ],
   "metadata": {
    "collapsed": false,
    "pycharm": {
     "name": "#%%\n"
    }
   }
  },
  {
   "cell_type": "code",
   "execution_count": 7,
   "metadata": {
    "pycharm": {
     "name": "#%%\n"
    }
   },
   "outputs": [],
   "source": [
    "lr = 1e-3\n",
    "\n",
    "model = get_model().cuda()\n",
    "model.train()\n",
    "optimizer = Adam(model.parameters(), lr)\n",
    "loss_function = nn.CrossEntropyLoss()"
   ]
  },
  {
   "cell_type": "code",
   "execution_count": null,
   "metadata": {
    "pycharm": {
     "name": "#%%\n",
     "is_executing": true
    }
   },
   "outputs": [
    {
     "name": "stdout",
     "output_type": "stream",
     "text": [
      "Train batch: 150 train loss: 2.3083, train accuracy: 0.6358\n",
      "Train batch: 300 train loss: 2.3056, train accuracy: 0.6645\n"
     ]
    }
   ],
   "source": [
    "plot_result(\n",
    "\t*train_classification(\n",
    "\t\t5, model, train_loader, valid_loader, loss_function, optimizer, noti_rate=150\n",
    "\t)\n",
    ")"
   ]
  },
  {
   "cell_type": "code",
   "execution_count": null,
   "metadata": {
    "pycharm": {
     "name": "#%%\n",
     "is_executing": true
    }
   },
   "outputs": [],
   "source": [
    "torch.save(model, os.path.join(WEIGHT_PATH, \"classification_5.model\"))"
   ]
  },
  {
   "cell_type": "code",
   "execution_count": null,
   "metadata": {
    "pycharm": {
     "name": "#%%\n",
     "is_executing": true
    }
   },
   "outputs": [],
   "source": []
  }
 ],
 "metadata": {
  "kernelspec": {
   "display_name": "Python 3 (ipykernel)",
   "language": "python",
   "name": "python3"
  },
  "language_info": {
   "codemirror_mode": {
    "name": "ipython",
    "version": 3
   },
   "file_extension": ".py",
   "mimetype": "text/x-python",
   "name": "python",
   "nbconvert_exporter": "python",
   "pygments_lexer": "ipython3",
   "version": "3.9.10"
  }
 },
 "nbformat": 4,
 "nbformat_minor": 1
}