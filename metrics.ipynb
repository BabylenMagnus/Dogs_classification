{
 "cells": [
  {
   "cell_type": "code",
   "execution_count": 1,
   "metadata": {
    "collapsed": true
   },
   "outputs": [],
   "source": [
    "import matplotlib.pyplot as plt\n",
    "\n",
    "import torch\n",
    "\n",
    "from config import *\n",
    "\n",
    "from torchvision.datasets import ImageFolder\n",
    "from torch.utils.data import DataLoader\n",
    "\n",
    "from utils import test_augmentation\n",
    "\n",
    "from engine import get_model\n",
    "\n",
    "import numpy as np"
   ]
  },
  {
   "cell_type": "code",
   "execution_count": 2,
   "outputs": [],
   "source": [
    "model = get_model()\n",
    "\n",
    "valid_data = ImageFolder(VAL_DATA, transform=test_augmentation)\n",
    "\n",
    "valid_loader = DataLoader(\n",
    "\tvalid_data, batch_size=BATCH_SIZE, num_workers=12\n",
    ")"
   ],
   "metadata": {
    "collapsed": false,
    "pycharm": {
     "name": "#%%\n"
    }
   }
  },
  {
   "cell_type": "code",
   "execution_count": 3,
   "outputs": [],
   "source": [
    "model.eval()\n",
    "\n",
    "predictions = []\n",
    "answers = []\n",
    "\n",
    "for x, y in valid_loader:\n",
    "\twith torch.no_grad():\n",
    "\t\tpred = model(x.cuda()).cpu()\n",
    "\tpredictions.append(pred)\n",
    "\tanswers.append(y)"
   ],
   "metadata": {
    "collapsed": false,
    "pycharm": {
     "name": "#%%\n"
    }
   }
  },
  {
   "cell_type": "code",
   "execution_count": 4,
   "outputs": [],
   "source": [
    "pred_per_class = {}\n",
    "\n",
    "for pred, ans, in zip(predictions, answers):\n",
    "\tfor x, y in zip(pred, ans):\n",
    "\t\tif y.item() not in pred_per_class:\n",
    "\t\t\tpred_per_class[y.item()] = []\n",
    "\t\tpred_per_class[y.item()].append(x)"
   ],
   "metadata": {
    "collapsed": false,
    "pycharm": {
     "name": "#%%\n"
    }
   }
  },
  {
   "cell_type": "code",
   "execution_count": 35,
   "outputs": [
    {
     "data": {
      "text/plain": "{0: Counter(),\n 1: Counter({5: 1.0, 3: 0.0}),\n 2: Counter(),\n 3: Counter({3: 0.98, 5: 1.0}),\n 4: Counter(),\n 5: Counter({1: 0.86, 3: 1.0, 5: 1.0}),\n 6: Counter(),\n 7: Counter({5: 0.99}),\n 8: Counter({3: 1.0, 5: 1.0, 1: 0.17}),\n 9: Counter()}"
     },
     "execution_count": 35,
     "metadata": {},
     "output_type": "execute_result"
    }
   ],
   "source": [
    "from collections import Counter\n",
    "\n",
    "error_by_class = {}\n",
    "most_popular_classes = Counter()\n",
    "\n",
    "top_k = [1, 3, 5]\n",
    "\n",
    "for y, pred in pred_per_class.items():\n",
    "\terror_by_class[y] = Counter()\n",
    "\tfor x in pred:\n",
    "\t\tmost_popular_classes[x.argmax().item()] += 1\n",
    "\t\tfor i in top_k:\n",
    "\t\t\tif y in torch.topk(x, i).indices:\n",
    "\t\t\t\terror_by_class[y][i] += 1\n",
    "\n",
    "\tfor i in top_k:\n",
    "\t\tif i in error_by_class[y].keys():\n",
    "\t\t\terror_by_class[y][i] = round(error_by_class[y][i] / len(pred_per_class[y]), 2)\n",
    "error_by_class"
   ],
   "metadata": {
    "collapsed": false,
    "pycharm": {
     "name": "#%%\n"
    }
   }
  },
  {
   "cell_type": "markdown",
   "source": [
    "### Top k-predict"
   ],
   "metadata": {
    "collapsed": false,
    "pycharm": {
     "name": "#%% md\n"
    }
   }
  },
  {
   "cell_type": "code",
   "execution_count": 36,
   "outputs": [
    {
     "data": {
      "text/plain": "<Figure size 1440x3600 with 0 Axes>"
     },
     "metadata": {},
     "output_type": "display_data"
    },
    {
     "data": {
      "text/plain": "<Figure size 432x288 with 1 Axes>",
      "image/png": "[encoded data removed]"
     },
     "metadata": {
      "needs_background": "light"
     },
     "output_type": "display_data"
    }
   ],
   "source": [
    "plt.figure(figsize=(20, 50))\n",
    "\n",
    "indices = [i for i in range(10) if error_by_class[i].keys()]\n",
    "labels = [model.classes[i].replace('_', ' ').title() for i in indices]\n",
    "\n",
    "x = np.arange(len(labels))\n",
    "width = 0.2\n",
    "\n",
    "top_1 = [error_by_class[i][1] for i in indices]\n",
    "top_3 = [error_by_class[i][3] for i in indices]\n",
    "top_5 = [error_by_class[i][5] for i in indices]\n",
    "\n",
    "fig, ax = plt.subplots()\n",
    "rects1 = ax.bar(x, top_1, width, label='top 1')\n",
    "rects2 = ax.bar(x + width, top_3, width, label='top 3')\n",
    "rects3 = ax.bar(x + 2 * width, top_5, width, label='top 5')\n",
    "\n",
    "ax.set_ylabel('Percent in top')\n",
    "ax.set_title('Scores by breed (if breed have score)')\n",
    "ax.set_xticks(x, labels)\n",
    "plt.xticks(rotation=30)\n",
    "ax.legend()\n",
    "\n",
    "fig.tight_layout()\n",
    "\n",
    "plt.show()"
   ],
   "metadata": {
    "collapsed": false,
    "pycharm": {
     "name": "#%%\n"
    }
   }
  },
  {
   "cell_type": "markdown",
   "source": [
    "### Most Popular classes"
   ],
   "metadata": {
    "collapsed": false,
    "pycharm": {
     "name": "#%% md\n"
    }
   }
  },
  {
   "cell_type": "code",
   "execution_count": 38,
   "outputs": [
    {
     "data": {
      "text/plain": "<Figure size 432x288 with 1 Axes>",
      "image/png": "[encoded data removed]"
     },
     "metadata": {},
     "output_type": "display_data"
    }
   ],
   "source": [
    "labels = [model.classes[i].replace('_', ' ').title() for i in most_popular_classes.keys()]\n",
    "\n",
    "plt.pie(most_popular_classes.values(), labels=labels, autopct='%1.1f%%', shadow=True)\n",
    "plt.show()"
   ],
   "metadata": {
    "collapsed": false,
    "pycharm": {
     "name": "#%%\n"
    }
   }
  },
  {
   "cell_type": "code",
   "execution_count": null,
   "outputs": [],
   "source": [],
   "metadata": {
    "collapsed": false,
    "pycharm": {
     "name": "#%%\n"
    }
   }
  }
 ],
 "metadata": {
  "kernelspec": {
   "display_name": "Python 3",
   "language": "python",
   "name": "python3"
  },
  "language_info": {
   "codemirror_mode": {
    "name": "ipython",
    "version": 2
   },
   "file_extension": ".py",
   "mimetype": "text/x-python",
   "name": "python",
   "nbconvert_exporter": "python",
   "pygments_lexer": "ipython2",
   "version": "2.7.6"
  }
 },
 "nbformat": 4,
 "nbformat_minor": 0
}